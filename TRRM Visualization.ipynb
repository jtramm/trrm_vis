{
 "cells": [
  {
   "cell_type": "code",
   "execution_count": 1,
   "metadata": {
    "collapsed": false
   },
   "outputs": [
    {
     "data": {
      "text/plain": [
       "make_line (generic function with 1 method)"
      ]
     },
     "execution_count": 1,
     "metadata": {},
     "output_type": "execute_result"
    }
   ],
   "source": [
    "# Plot a line\n",
    "function make_line(pitch)\n",
    "    # sample 0:2pi\n",
    "    θ = 2*pi*rand()\n",
    "    r = 2*pitch\n",
    "    x = [r*cos(θ), r*cos(θ + pi)]\n",
    "    y = [r*sin(θ), r*sin(θ + pi)]\n",
    "    # shift somewhere randomly\n",
    "    x_c = -pitch/2 + pitch*rand()\n",
    "    y_c = -pitch/2 + pitch*rand()\n",
    "    x = x .+ x_c\n",
    "    y = y .+ y_c\n",
    "    return x, y\n",
    "end"
   ]
  },
  {
   "cell_type": "code",
   "execution_count": 9,
   "metadata": {
    "collapsed": false
   },
   "outputs": [
    {
     "name": "stderr",
     "output_type": "stream",
     "text": [
      "WARNING: Method definition make_det_line(Any, Any, Any, Any) in module Main at In[2]:2 overwritten at In[9]:2.\n"
     ]
    },
    {
     "data": {
      "text/plain": [
       "make_det_line (generic function with 1 method)"
      ]
     },
     "execution_count": 9,
     "metadata": {},
     "output_type": "execute_result"
    }
   ],
   "source": [
    "function make_det_line(pitch, θ, n, δ)\n",
    "    r = 2*pitch\n",
    "    x = [r*cos(θ), -r*cos(θ)]\n",
    "    y = [r*sin(θ), -r*sin(θ)]\n",
    "    # shift somewhere randomly\n",
    "    x_c = -pitch/2 + δ * n\n",
    "    y_c = -pitch/2 + δ * n\n",
    "    x = x .+ x_c\n",
    "    y = y .+ y_c\n",
    "    return x, y\n",
    "end"
   ]
  },
  {
   "cell_type": "code",
   "execution_count": 24,
   "metadata": {
    "collapsed": false
   },
   "outputs": [
    {
     "name": "stderr",
     "output_type": "stream",
     "text": [
      "INFO: Saved animation to /Users/jtramm/test/plot/trrm_anim.gif\n"
     ]
    },
    {
     "data": {
      "text/html": [
       "<img src=\"trrm_anim.gif?0.4859290736726216>\" />"
      ],
      "text/plain": [
       "Plots.AnimatedGif(\"/Users/jtramm/test/plot/trrm_anim.gif\")"
      ]
     },
     "execution_count": 24,
     "metadata": {},
     "output_type": "execute_result"
    }
   ],
   "source": [
    "using Plots\n",
    "\n",
    "pitch = 1.26\n",
    "fuel = 0.4096\n",
    "inner_clad = 0.418\n",
    "outer_clad = 0.475\n",
    "\n",
    "# Outer Clad\n",
    "outer = Plots.partialcircle(0,2π,100,outer_clad)\n",
    "x, y = Plots.unzip(outer)\n",
    "plot(Shape(x,y), c=:lightgray, size=(500,500), grid=false, leg=false, xticks = nothing, yticks = nothing, xlims = (-pitch/2,pitch/2), ylims = (-pitch/2,pitch/2))\n",
    "\n",
    "# Inner Clad\n",
    "inner = Plots.partialcircle(0,2π,100,inner_clad)\n",
    "x, y = Plots.unzip(inner)\n",
    "plot!(Shape(x,y), c=:white, size=(500,500), grid=false, leg=false)\n",
    "\n",
    "# Fuel\n",
    "inner = Plots.partialcircle(0,2π,100,fuel)\n",
    "x, y = Plots.unzip(inner)\n",
    "plot!(Shape(x,y), c=:lightgreen, size=(500,500), grid=false, leg=false)\n",
    "\n",
    "anim = @animate for i=1:150\n",
    "    x, y = make_line(pitch)\n",
    "    plot!(x, y, c=:black)\n",
    "end\n",
    "gif(anim, \"trrm_anim.gif\", fps = 3)"
   ]
  },
  {
   "cell_type": "code",
   "execution_count": 20,
   "metadata": {
    "collapsed": false
   },
   "outputs": [],
   "source": [
    "# 20 PIs\n",
    "# Outer Clad\n",
    "outer = Plots.partialcircle(0,2π,100,outer_clad)\n",
    "x, y = Plots.unzip(outer)\n",
    "plot(Shape(x,y), c=:lightgray, size=(500,500), grid=false, leg=false, xticks = nothing, yticks = nothing, xlims = (-pitch/2,pitch/2), ylims = (-pitch/2,pitch/2))\n",
    "\n",
    "# Inner Clad\n",
    "inner = Plots.partialcircle(0,2π,100,inner_clad)\n",
    "x, y = Plots.unzip(inner)\n",
    "plot!(Shape(x,y), c=:white, size=(500,500), grid=false, leg=false)\n",
    "\n",
    "# Fuel\n",
    "inner = Plots.partialcircle(0,2π,100,fuel)\n",
    "x, y = Plots.unzip(inner)\n",
    "plot!(Shape(x,y), c=:lightgreen, size=(500,500), grid=false, leg=false)\n",
    "\n",
    "for i=1:(20*20-1)\n",
    "    x, y = make_line(pitch)\n",
    "    plot!(x, y, c=:black)\n",
    "end\n",
    "x, y = make_line(pitch)\n",
    "plot!(x, y, c=:black)\n",
    "\n",
    "savefig(\"trrm.pdf\")"
   ]
  },
  {
   "cell_type": "code",
   "execution_count": 25,
   "metadata": {
    "collapsed": false
   },
   "outputs": [
    {
     "name": "stderr",
     "output_type": "stream",
     "text": [
      "INFO: Saved animation to /Users/jtramm/test/plot/deterministic_anim.gif\n"
     ]
    },
    {
     "data": {
      "text/html": [
       "<img src=\"deterministic_anim.gif?0.38634557406622827>\" />"
      ],
      "text/plain": [
       "Plots.AnimatedGif(\"/Users/jtramm/test/plot/deterministic_anim.gif\")"
      ]
     },
     "execution_count": 25,
     "metadata": {},
     "output_type": "execute_result"
    }
   ],
   "source": [
    "# Outer Clad\n",
    "outer = Plots.partialcircle(0,2π,100,outer_clad)\n",
    "x, y = Plots.unzip(outer)\n",
    "plot(Shape(x,y), c=:lightgray, size=(500,500), grid=false, leg=false, xticks = nothing, yticks = nothing, xlims = (-pitch/2,pitch/2), ylims = (-pitch/2,pitch/2))\n",
    "\n",
    "# Inner Clad\n",
    "inner = Plots.partialcircle(0,2π,100,inner_clad)\n",
    "x, y = Plots.unzip(inner)\n",
    "plot!(Shape(x,y), c=:white, size=(500,500), grid=false, leg=false)\n",
    "\n",
    "# Fuel\n",
    "inner = Plots.partialcircle(0,2π,100,fuel)\n",
    "x, y = Plots.unzip(inner)\n",
    "plot!(Shape(x,y), c=:lightgreen, size=(500,500), grid=false, leg=false)\n",
    "\n",
    "θ_1 = 0\n",
    "θ_2 = pi/2.0 # problem\n",
    "n = 11\n",
    "δ = pitch/n\n",
    "anim = @animate for i=1:2*n\n",
    "    if(i <= n)\n",
    "        x, y = make_det_line(pitch, θ_1, i, δ)\n",
    "        plot!(x, y, c=:black)\n",
    "    else\n",
    "        x, y = make_det_line(pitch, θ_2, i-n, δ)\n",
    "        plot!(x, y, c=:black)\n",
    "    end\n",
    "end\n",
    "gif(anim, \"deterministic_anim.gif\", fps = 3)"
   ]
  },
  {
   "cell_type": "code",
   "execution_count": 21,
   "metadata": {
    "collapsed": false
   },
   "outputs": [],
   "source": [
    "# Outer Clad\n",
    "outer = Plots.partialcircle(0,2π,100,outer_clad)\n",
    "x, y = Plots.unzip(outer)\n",
    "plot(Shape(x,y), c=:lightgray, size=(500,500), grid=false, leg=false, xticks = nothing, yticks = nothing, xlims = (-pitch/2,pitch/2), ylims = (-pitch/2,pitch/2))\n",
    "\n",
    "# Inner Clad\n",
    "inner = Plots.partialcircle(0,2π,100,inner_clad)\n",
    "x, y = Plots.unzip(inner)\n",
    "plot!(Shape(x,y), c=:white, size=(500,500), grid=false, leg=false)\n",
    "\n",
    "# Fuel\n",
    "inner = Plots.partialcircle(0,2π,100,fuel)\n",
    "x, y = Plots.unzip(inner)\n",
    "plot!(Shape(x,y), c=:lightgreen, size=(500,500), grid=false, leg=false)\n",
    "\n",
    "θ_1 = 0\n",
    "θ_2 = pi/2.0 # problem\n",
    "n = 11\n",
    "δ = pitch/n\n",
    "\n",
    "for i=1:(2*n-1)\n",
    "    if(i <= n)\n",
    "        x, y = make_det_line(pitch, θ_1, i, δ)\n",
    "        plot!(x, y, c=:black)\n",
    "    else\n",
    "        x, y = make_det_line(pitch, θ_2, i-n, δ)\n",
    "        plot!(x, y, c=:black)\n",
    "    end\n",
    "end\n",
    "x, y = make_det_line(pitch, θ_2, 2*n, δ)\n",
    "plot!(x, y, c=:black)\n",
    "\n",
    "savefig(\"deterministic.pdf\")"
   ]
  }
 ],
 "metadata": {
  "kernelspec": {
   "display_name": "Julia 0.5.0",
   "language": "julia",
   "name": "julia-0.5"
  },
  "language_info": {
   "file_extension": ".jl",
   "mimetype": "application/julia",
   "name": "julia",
   "version": "0.5.0"
  }
 },
 "nbformat": 4,
 "nbformat_minor": 0
}
